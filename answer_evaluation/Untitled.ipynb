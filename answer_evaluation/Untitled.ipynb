{
 "cells": [
  {
   "cell_type": "code",
   "execution_count": 1,
   "metadata": {},
   "outputs": [],
   "source": [
    "from nltk.corpus import stopwords  \n",
    "from nltk.tokenize import word_tokenize  "
   ]
  },
  {
   "cell_type": "code",
   "execution_count": 45,
   "metadata": {},
   "outputs": [],
   "source": [
    "correct_answer = \" The members of the Rajya Sabha from each State are elected by the members of the Legislative Assembly (i.e. the Lower House) of that State.\"\n",
    "student_answer = \"rajya sabha members elected by members of lower house of state\"\n",
    "student_answer2= \"rajya sabha members elected by members of assembly of state\"\n",
    "wrong_answer = \"Rajya sabha members elected by lok sabha\"\n",
    "wrong_answer2=\"rajya sabha members elected by members of lok sabha\"\n",
    "punctuations = '''!()-[]{};:'\"\\,<>./?@#$%^&*_~'''\n",
    "stop_words = set(stopwords.words('english'))"
   ]
  },
  {
   "cell_type": "code",
   "execution_count": 6,
   "metadata": {},
   "outputs": [],
   "source": [
    "def remove_stop_words(text):\n",
    "    stop_words = set(stopwords.words('english'))  \n",
    "  \n",
    "    word_tokens = word_tokenize(correct_answer)  \n",
    "\n",
    "    filtered_sentence = ' '.join([w for w in word_tokens if not w in stop_words]) \n",
    "    return filtered_sentence"
   ]
  },
  {
   "cell_type": "code",
   "execution_count": 9,
   "metadata": {},
   "outputs": [],
   "source": [
    "def remove_punctuations(text):\n",
    "    return ''.join([ele for ele in text if ele not in punctuations])"
   ]
  },
  {
   "cell_type": "code",
   "execution_count": 19,
   "metadata": {},
   "outputs": [],
   "source": [
    "def remove_stop_words(text):\n",
    "    text=word_tokenize(text)\n",
    "    return ' '.join([ele for ele in text if ele not in stop_words])"
   ]
  },
  {
   "cell_type": "code",
   "execution_count": 26,
   "metadata": {},
   "outputs": [],
   "source": [
    "def filter_sentence(text):\n",
    "    text=remove_stop_words(remove_punctuations(text))\n",
    "    return text"
   ]
  },
  {
   "cell_type": "code",
   "execution_count": 23,
   "metadata": {},
   "outputs": [
    {
     "name": "stdout",
     "output_type": "stream",
     "text": [
      "The members Rajya Sabha State elected members Legislative Assembly ie Lower House State\n",
      "rajya sabha members elected members lower house state\n"
     ]
    }
   ],
   "source": [
    "filter_sentence(correct_answer)\n",
    "filter_sentence(student_answer)"
   ]
  },
  {
   "cell_type": "code",
   "execution_count": 40,
   "metadata": {},
   "outputs": [],
   "source": [
    "corpus = [filter_sentence(correct_answer), \n",
    "          filter_sentence(student_answer), \n",
    "          filter_sentence(student_answer2),\n",
    "         filter_sentence(wrong_answer)]"
   ]
  },
  {
   "cell_type": "code",
   "execution_count": 41,
   "metadata": {},
   "outputs": [],
   "source": [
    "from sklearn.feature_extraction.text import TfidfVectorizer\n",
    "vect = TfidfVectorizer(min_df=1, stop_words=\"english\")   "
   ]
  },
  {
   "cell_type": "code",
   "execution_count": 42,
   "metadata": {},
   "outputs": [],
   "source": [
    "tfidf = vect.fit_transform(corpus) "
   ]
  },
  {
   "cell_type": "code",
   "execution_count": 43,
   "metadata": {},
   "outputs": [],
   "source": [
    "pairwise_similarity = tfidf * tfidf.T "
   ]
  },
  {
   "cell_type": "code",
   "execution_count": 44,
   "metadata": {},
   "outputs": [
    {
     "data": {
      "text/plain": [
       "array([[1.        , 0.83083769, 0.77118172, 0.3788362 ],\n",
       "       [0.83083769, 1.        , 0.71604984, 0.50819713],\n",
       "       [0.77118172, 0.71604984, 1.        , 0.55942543],\n",
       "       [0.3788362 , 0.50819713, 0.55942543, 1.        ]])"
      ]
     },
     "execution_count": 44,
     "metadata": {},
     "output_type": "execute_result"
    }
   ],
   "source": [
    "pairwise_similarity.toarray()  "
   ]
  },
  {
   "cell_type": "code",
   "execution_count": null,
   "metadata": {},
   "outputs": [],
   "source": []
  },
  {
   "cell_type": "code",
   "execution_count": null,
   "metadata": {},
   "outputs": [],
   "source": []
  },
  {
   "cell_type": "code",
   "execution_count": null,
   "metadata": {},
   "outputs": [],
   "source": []
  },
  {
   "cell_type": "code",
   "execution_count": null,
   "metadata": {},
   "outputs": [],
   "source": []
  },
  {
   "cell_type": "code",
   "execution_count": null,
   "metadata": {},
   "outputs": [],
   "source": []
  },
  {
   "cell_type": "code",
   "execution_count": 11,
   "metadata": {},
   "outputs": [
    {
     "data": {
      "text/plain": [
       "['took back home large amount',\n",
       " 'western side 17 times',\n",
       " 'north western side',\n",
       " 'first turkish invader',\n",
       " 'constructed beautiful buildings',\n",
       " 'somnath invasion',\n",
       " 'mahmud ghaznavi',\n",
       " 'invade india',\n",
       " 'important invasion',\n",
       " 'attacked india',\n",
       " '25 years',\n",
       " '1025 ).',\n",
       " 'north',\n",
       " 'silver',\n",
       " 'ruler',\n",
       " 'mosques',\n",
       " 'jewels',\n",
       " 'gold',\n",
       " 'ghazni',\n",
       " 'course',\n",
       " 'capital',\n",
       " '1001']"
      ]
     },
     "execution_count": 11,
     "metadata": {},
     "output_type": "execute_result"
    }
   ],
   "source": [
    "from rake_nltk import Rake\n",
    "text=\"The members of the Rajya Sabha from each State are elected by the members of the Legislative Assembly (i.e. the Lower House) of that State.\"\n",
    "text2=\"Mahmud Ghaznavi was the ruler of Ghazni. He was the first Turkish invader to invade India from the north western side. He attacked India from the north-western side 17 times during the course of 25 years (A.D. 1001 to A.D. 1025). The Somnath invasion was his most important invasion as he took back home large amount of gold, silver and jewels. He constructed beautiful buildings and mosques in his capital.\"\n",
    "r=Rake()\n",
    "\n",
    "r.extract_keywords_from_text(text2)\n",
    "r.get_ranked_phrases()"
   ]
  },
  {
   "cell_type": "code",
   "execution_count": null,
   "metadata": {},
   "outputs": [],
   "source": []
  },
  {
   "cell_type": "code",
   "execution_count": null,
   "metadata": {},
   "outputs": [],
   "source": []
  }
 ],
 "metadata": {
  "kernelspec": {
   "display_name": "Python 3",
   "language": "python",
   "name": "python3"
  },
  "language_info": {
   "codemirror_mode": {
    "name": "ipython",
    "version": 3
   },
   "file_extension": ".py",
   "mimetype": "text/x-python",
   "name": "python",
   "nbconvert_exporter": "python",
   "pygments_lexer": "ipython3",
   "version": "3.7.3"
  }
 },
 "nbformat": 4,
 "nbformat_minor": 4
}
